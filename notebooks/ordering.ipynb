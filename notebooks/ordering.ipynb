{
 "cells": [
  {
   "cell_type": "code",
   "execution_count": 1,
   "metadata": {
    "collapsed": false
   },
   "outputs": [],
   "source": [
    "from CCDC_Processing.espa import espa_order\n",
    "from CCDC_Processing import landsat_meta"
   ]
  },
  {
   "cell_type": "code",
   "execution_count": 2,
   "metadata": {
    "collapsed": false
   },
   "outputs": [],
   "source": [
    "espa = espa_order.order_instance()\n",
    "meta = landsat_meta.LandsatMeta()"
   ]
  },
  {
   "cell_type": "code",
   "execution_count": 5,
   "metadata": {
    "collapsed": false
   },
   "outputs": [
    {
     "name": "stdout",
     "output_type": "stream",
     "text": [
      "{u'orderid': u'kelcy.smith.ctr@usgs.gov-10032016-215232-151', u'status': 200}\n",
      "{u'orderid': u'kelcy.smith.ctr@usgs.gov-10032016-215323-448', u'status': 200}\n",
      "({u'orderid': u'kelcy.smith.ctr@usgs.gov-10032016-215419-141', u'status': 200}, {u'orderid': u'kelcy.smith.ctr@usgs.gov-10032016-215422-955', u'status': 200})\n",
      "({u'orderid': u'kelcy.smith.ctr@usgs.gov-10032016-215519-589', u'status': 200}, {u'orderid': u'kelcy.smith.ctr@usgs.gov-10032016-215526-297', u'status': 200})\n"
     ]
    }
   ],
   "source": [
    "for i in range(2, 6):\n",
    "    a = espa_order.order_weld_tile(h=i, v=12)\n",
    "    print a"
   ]
  },
  {
   "cell_type": "code",
   "execution_count": 3,
   "metadata": {
    "collapsed": false
   },
   "outputs": [
    {
     "name": "stdout",
     "output_type": "stream",
     "text": [
      "[1, 2, 3, 4, 5]\n"
     ]
    }
   ],
   "source": [
    "print range(1, 6)"
   ]
  },
  {
   "cell_type": "code",
   "execution_count": null,
   "metadata": {
    "collapsed": false
   },
   "outputs": [],
   "source": [
    "sc = meta.baecv_tile(16, 10, 'CONUS')\n",
    "print len(sc)"
   ]
  },
  {
   "cell_type": "code",
   "execution_count": 4,
   "metadata": {
    "collapsed": false
   },
   "outputs": [
    {
     "name": "stdout",
     "output_type": "stream",
     "text": [
      "Downloading http://landsat.usgs.gov/metadata_service/bulk_metadata_files/LANDSAT_8.csv\n",
      "\n",
      "Updating Db...\n",
      "Creating temporary table\n",
      "Importing CSV\n",
      "Updating scenes\n",
      "Inserting new scenes\n",
      "Updating geometry\n",
      "Dropping temporary table\n",
      "Downloading http://landsat.usgs.gov/metadata_service/bulk_metadata_files/LANDSAT_TM-1980-1989.csv\n",
      "\n",
      "Updating Db...\n",
      "Creating temporary table\n",
      "Importing CSV\n",
      "Updating scenes\n",
      "Inserting new scenes\n",
      "Updating geometry\n",
      "Dropping temporary table\n",
      "Downloading http://landsat.usgs.gov/metadata_service/bulk_metadata_files/LANDSAT_ETM.csv\n",
      "\n",
      "Updating Db...\n",
      "Creating temporary table\n",
      "Importing CSV\n",
      "Updating scenes\n",
      "Inserting new scenes\n",
      "Updating geometry\n",
      "Dropping temporary table\n",
      "Downloading http://landsat.usgs.gov/metadata_service/bulk_metadata_files/LANDSAT_ETM_SLC_OFF.csv\n",
      "\n",
      "Updating Db...\n",
      "Creating temporary table\n",
      "Importing CSV\n",
      "Updating scenes\n",
      "Inserting new scenes\n",
      "Updating geometry\n",
      "Dropping temporary table\n",
      "Downloading http://landsat.usgs.gov/metadata_service/bulk_metadata_files/LANDSAT_TM-2000-2009.csv\n",
      "\n",
      "Updating Db...\n",
      "Creating temporary table\n",
      "Importing CSV\n",
      "Updating scenes\n",
      "Inserting new scenes\n",
      "Updating geometry\n",
      "Dropping temporary table\n",
      "Downloading http://landsat.usgs.gov/metadata_service/bulk_metadata_files/LANDSAT_TM-2010-2012.csv\n",
      "\n",
      "Updating Db...\n",
      "Creating temporary table\n",
      "Importing CSV\n",
      "Updating scenes\n",
      "Inserting new scenes\n",
      "Updating geometry\n",
      "Dropping temporary table\n",
      "Downloading http://landsat.usgs.gov/metadata_service/bulk_metadata_files/LANDSAT_TM-1990-1999.csv\n",
      "\n",
      "Updating Db...\n",
      "Creating temporary table\n",
      "Importing CSV\n",
      "Updating scenes\n",
      "Inserting new scenes\n",
      "Updating geometry\n",
      "Dropping temporary table\n"
     ]
    }
   ],
   "source": [
    "meta.landsat_meta()"
   ]
  },
  {
   "cell_type": "code",
   "execution_count": null,
   "metadata": {
    "collapsed": false
   },
   "outputs": [],
   "source": [
    "for x in c:\n",
    "    print x['product_dload_url']"
   ]
  },
  {
   "cell_type": "code",
   "execution_count": null,
   "metadata": {
    "collapsed": true
   },
   "outputs": [],
   "source": [
    "s = 'http://espa.cr.usgs.gov/orders/klsmith@usgs.gov-07262016-220458/LC80150312015229-SC20160728042835.tar.gz'"
   ]
  },
  {
   "cell_type": "code",
   "execution_count": null,
   "metadata": {
    "collapsed": false
   },
   "outputs": [],
   "source": [
    "import requests"
   ]
  },
  {
   "cell_type": "code",
   "execution_count": null,
   "metadata": {
    "collapsed": true
   },
   "outputs": [],
   "source": [
    "resp = requests.head('http://espa.cr.usgs.gov/orders/klsmith@usgs.gov-07262016-220458/LE70140312015198-SC20160728040123.tar.gz')"
   ]
  },
  {
   "cell_type": "code",
   "execution_count": 4,
   "metadata": {
    "collapsed": false
   },
   "outputs": [],
   "source": [
    "a = 'http://edclpdsftp.cr.usgs.gov/orders/kelcy.smith.ctr@usgs.gov-09162016-091555-538/LC80130312015215-SC20160916154452.tar.gz'"
   ]
  },
  {
   "cell_type": "code",
   "execution_count": 5,
   "metadata": {
    "collapsed": false
   },
   "outputs": [
    {
     "data": {
      "text/plain": [
       "['http:',\n",
       " '',\n",
       " 'edclpdsftp.cr.usgs.gov',\n",
       " 'orders',\n",
       " 'kelcy.smith.ctr@usgs.gov-09162016-091555-538',\n",
       " 'LC80130312015215-SC20160916154452.tar.gz']"
      ]
     },
     "execution_count": 5,
     "metadata": {},
     "output_type": "execute_result"
    }
   ],
   "source": [
    "a.split('/')"
   ]
  }
 ],
 "metadata": {
  "kernelspec": {
   "display_name": "Python 2",
   "language": "python",
   "name": "python2"
  },
  "language_info": {
   "codemirror_mode": {
    "name": "ipython",
    "version": 2
   },
   "file_extension": ".py",
   "mimetype": "text/x-python",
   "name": "python",
   "nbconvert_exporter": "python",
   "pygments_lexer": "ipython2",
   "version": "2.7.11"
  }
 },
 "nbformat": 4,
 "nbformat_minor": 0
}
