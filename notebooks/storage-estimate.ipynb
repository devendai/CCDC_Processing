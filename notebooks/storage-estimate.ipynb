{
 "cells": [
  {
   "cell_type": "code",
   "execution_count": 1,
   "metadata": {
    "collapsed": true
   },
   "outputs": [],
   "source": [
    "from CCDC_Processing import landsat_meta"
   ]
  },
  {
   "cell_type": "code",
   "execution_count": 2,
   "metadata": {
    "collapsed": true
   },
   "outputs": [],
   "source": [
    "meta = landsat_meta.LandsatMeta()"
   ]
  },
  {
   "cell_type": "code",
   "execution_count": 14,
   "metadata": {
    "collapsed": false
   },
   "outputs": [
    {
     "name": "stdout",
     "output_type": "stream",
     "text": [
      "81866\n",
      "112057\n"
     ]
    }
   ],
   "source": [
    "print wash_count\n",
    "print cali_count"
   ]
  },
  {
   "cell_type": "code",
   "execution_count": 16,
   "metadata": {
    "collapsed": false
   },
   "outputs": [
    {
     "name": "stdout",
     "output_type": "stream",
     "text": [
      "18\n"
     ]
    }
   ],
   "source": [
    "for _ in range(18, 19):\n",
    "    print _"
   ]
  },
  {
   "cell_type": "code",
   "execution_count": 8,
   "metadata": {
    "collapsed": false
   },
   "outputs": [],
   "source": [
    "count = 0\n",
    "loc = 'CONUS'"
   ]
  },
  {
   "cell_type": "code",
   "execution_count": 12,
   "metadata": {
    "collapsed": false
   },
   "outputs": [],
   "source": [
    "# Washington\n",
    "wash_count = 0\n",
    "for v in range(1, 5):\n",
    "    for h in range(3, 7):\n",
    "        wash_count += len(meta.query_tile(h, v, loc))"
   ]
  },
  {
   "cell_type": "code",
   "execution_count": 13,
   "metadata": {
    "collapsed": true
   },
   "outputs": [],
   "source": [
    "# California\n",
    "cali_count = 0\n",
    "for v in range(8, 11):\n",
    "    for h in range(1, 6):\n",
    "        cali_count += len(meta.query_tile(h, v, loc))\n",
    "        \n",
    "for v in range(11, 13):\n",
    "    for h in range(4, 7):\n",
    "        cali_count += len(meta.query_tile(h, v, loc))"
   ]
  },
  {
   "cell_type": "code",
   "execution_count": 17,
   "metadata": {
    "collapsed": true
   },
   "outputs": [],
   "source": [
    "# Delta\n",
    "delta_count = 0\n",
    "for v in range(13, 17):\n",
    "    for h in range(18, 23):\n",
    "        delta_count += len(meta.query_tile(h, v, loc))\n",
    "        \n",
    "for v in range(17, 18):\n",
    "    for h in range(18, 22):\n",
    "        delta_count += len(meta.query_tile(h, v, loc))"
   ]
  },
  {
   "cell_type": "code",
   "execution_count": 18,
   "metadata": {
    "collapsed": true
   },
   "outputs": [],
   "source": [
    "# Plains\n",
    "plains_count = 0\n",
    "for v in range(4, 8):\n",
    "    for h in range(12, 16):\n",
    "        plains_count += len(meta.query_tile(h, v, loc))"
   ]
  },
  {
   "cell_type": "code",
   "execution_count": 19,
   "metadata": {
    "collapsed": true
   },
   "outputs": [],
   "source": [
    "# Lakes\n",
    "lakes_count = 0\n",
    "for v in range(7, 11):\n",
    "    for h in range(20, 24):\n",
    "        lakes_count += len(meta.query_tile(h, v, loc))"
   ]
  },
  {
   "cell_type": "code",
   "execution_count": 20,
   "metadata": {
    "collapsed": true
   },
   "outputs": [],
   "source": [
    "# Chesapeake\n",
    "chesapeake_count = 0\n",
    "for v in range(6, 10):\n",
    "    for h in range(26, 30):\n",
    "        chesapeake_count += len(meta.query_tile(h, v, loc))\n",
    "        \n",
    "for v in range(10, 11):\n",
    "    for h in range(26, 29):\n",
    "        chesapeake_count += len(meta.query_tile(h, v, loc))"
   ]
  },
  {
   "cell_type": "code",
   "execution_count": 21,
   "metadata": {
    "collapsed": false
   },
   "outputs": [
    {
     "name": "stdout",
     "output_type": "stream",
     "text": [
      "480671\n"
     ]
    }
   ],
   "source": [
    "print wash_count + cali_count + delta_count + plains_count + lakes_count + chesapeake_count"
   ]
  }
 ],
 "metadata": {
  "kernelspec": {
   "display_name": "Python 2",
   "language": "python",
   "name": "python2"
  },
  "language_info": {
   "codemirror_mode": {
    "name": "ipython",
    "version": 2
   },
   "file_extension": ".py",
   "mimetype": "text/x-python",
   "name": "python",
   "nbconvert_exporter": "python",
   "pygments_lexer": "ipython2",
   "version": "2.7.11"
  }
 },
 "nbformat": 4,
 "nbformat_minor": 0
}
