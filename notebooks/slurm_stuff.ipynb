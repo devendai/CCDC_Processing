{
 "cells": [
  {
   "cell_type": "code",
   "execution_count": 8,
   "metadata": {
    "collapsed": true
   },
   "outputs": [],
   "source": [
    "from collections import defaultdict\n",
    "import string\n",
    "from pprint import pprint"
   ]
  },
  {
   "cell_type": "code",
   "execution_count": 2,
   "metadata": {
    "collapsed": true
   },
   "outputs": [],
   "source": [
    "class SafeDict(dict):\n",
    "     def __missing__(self, key):\n",
    "         return '{' + key + '}'"
   ]
  },
  {
   "cell_type": "code",
   "execution_count": 3,
   "metadata": {
    "collapsed": true
   },
   "outputs": [],
   "source": [
    "class JobFormatter(string.Formatter):\n",
    "    def __init__(self, default='{0}'):\n",
    "        self.default=default\n",
    "\n",
    "    def get_value(self, key, args, kwds):\n",
    "        if isinstance(key, str):\n",
    "            return kwds.get(key, self.default.format(key))\n",
    "        else:\n",
    "            Formatter.get_value(key, args, kwds)"
   ]
  },
  {
   "cell_type": "code",
   "execution_count": 4,
   "metadata": {
    "collapsed": true
   },
   "outputs": [],
   "source": [
    "vals = SafeDict({'slurm_account': 'eros',\n",
    "         'slurm_partition': 'normal',\n",
    "         'slurm_log_out': '/stuff',\n",
    "         'slurm_log_error': '/err_stuff',\n",
    "         'slurm_email': 'me',\n",
    "         'slurm_job_input_dir': '/here',\n",
    "         'change_detection_path': '/there'})"
   ]
  },
  {
   "cell_type": "code",
   "execution_count": 6,
   "metadata": {
    "collapsed": false
   },
   "outputs": [
    {
     "data": {
      "text/plain": [
       "{'change_detection_path': '/there',\n",
       " 'slurm_account': 'eros',\n",
       " 'slurm_email': 'me',\n",
       " 'slurm_job_input_dir': '/here',\n",
       " 'slurm_log_error': '/err_stuff',\n",
       " 'slurm_log_out': '/stuff',\n",
       " 'slurm_partition': 'normal'}"
      ]
     },
     "execution_count": 6,
     "metadata": {},
     "output_type": "execute_result"
    }
   ],
   "source": [
    "vals"
   ]
  },
  {
   "cell_type": "code",
   "execution_count": 5,
   "metadata": {
    "collapsed": true
   },
   "outputs": [],
   "source": [
    "stuff = {'slurm_account': 'eros',\n",
    "         'slurm_partition': 'normal',\n",
    "         'slurm_log_out': '/stuff',\n",
    "         'slurm_log_error': '/err_stuff',\n",
    "         'slurm_email': 'me',\n",
    "         'slurm_job_input_dir': '/here',\n",
    "         'change_detection_path': '/there'}"
   ]
  },
  {
   "cell_type": "code",
   "execution_count": 6,
   "metadata": {
    "collapsed": false
   },
   "outputs": [],
   "source": [
    "p = r'D:\\projects\\CCDC_Processing\\CCDC_Processing\\change_detection\\submit_job_template.slurm'\n",
    "with open(p, 'r') as f:\n",
    "    temp = f.read()"
   ]
  },
  {
   "cell_type": "code",
   "execution_count": 9,
   "metadata": {
    "collapsed": false
   },
   "outputs": [
    {
     "name": "stdout",
     "output_type": "stream",
     "text": [
      "'#!/bin/csh\\n\\n#SBATCH -A eros\\n#SBATCH -p normal\\n#SBATCH -t 4-12:00:00\\n#SBATCH -n 1\\n#SBATCH -o /stuff/change_detection_%a.out\\n#SBATCH -e /err_stuff/change_detection_%a.error\\n#SBATCH --open-mode=append\\n#SBATCH --job-name=ccdc\\n#SBATCH --array=1-5000\\n#SBATCH --mail-type=ALL\\n#SBATCH --mail-user=me\\n#SBATCH --mem-per-cpu=24576\\n\\nsleep `shuf -i 1-120 -n 1`\\n\\nmodule load matlab/mcr-R2013a-v81\\n\\necho \"\\\\n\\\\n********************************************\"\\necho \"* This job runs on ${SLURM_JOB_NODELIST}\"\\necho \"********************************************\\\\n\\\\n\"\\n\\n# Set this to the last number of the array. New variable in Slurm 15.08 (coming soon)\\nsetenv MATLAB_NTASKS 5000\\n#setenv MATLAB_NTASKS ${SLURM_ARRAY_TASK_MAX}\\nsetenv MATLAB_TASK ${SLURM_ARRAY_TASK_ID}\\n\\necho \"MATLAB_NTASKS = ${MATLAB_NTASKS}\"\\necho \"MATLAB_TASK = ${MATLAB_TASK}\"\\n\\n\\n# Running MATLAB standalone results in creation of a cache folder in home dir\\n# This may cause runtime issues. Below is a workaround.\\necho \"tmpdir is ${LOCAL_SCRATCH}\"\\nsetenv MCR_CACHE_ROOT ${LOCAL_SCRATCH}\\necho \"\\\\n\\\\n********************************************\"\\necho \"* Using local scratch folder ${LOCAL_SCRATCH} on ${SLURM_JOB_NODELIST}\"\\necho \"********************************************\\\\n\\\\n\"\\n\\n# Ready to run standalone with commandline inputs (if required).\\n# $MATLAB_TASK --- processor number\\n# $MATLAB_NTASKS --- processor total\\n#\\ncd /here\\n\\nsrun /there ${MATLAB_TASK} ${MATLAB_NTASKS}\\n\\nexit\\n'\n"
     ]
    }
   ],
   "source": [
    "#temp2 = temp.format(**vals)\n",
    "pprint(string.Formatter().vformat(temp, (), vals))"
   ]
  },
  {
   "cell_type": "code",
   "execution_count": 11,
   "metadata": {
    "collapsed": false
   },
   "outputs": [
    {
     "data": {
      "text/plain": [
       "'#!/bin/csh\\n\\n#SBATCH -A {slurm_account}\\n#SBATCH -p {slurm_partition}\\n#SBATCH -t 4-12:00:00\\n#SBATCH -n 1\\n#SBATCH -o {slurm_log_out}/change_detection_%a.out\\n#SBATCH -e {slurm_log_error}/change_detection_%a.error\\n#SBATCH --open-mode=append\\n#SBATCH --job-name=ccdc\\n#SBATCH --array=1-5000\\n#SBATCH --mail-type=ALL\\n#SBATCH --mail-user={slurm_email}\\n#SBATCH --mem-per-cpu=24576\\n\\nsleep `shuf -i 1-120 -n 1`\\n\\nmodule load matlab/mcr-R2013a-v81\\n\\necho \"\\\\n\\\\n********************************************\"\\necho \"* This job runs on ${SLURM_JOB_NODELIST}\"\\necho \"********************************************\\\\n\\\\n\"\\n\\n# Set this to the last number of the array. New variable in Slurm 15.08 (coming soon)\\nsetenv MATLAB_NTASKS 5000\\n#setenv MATLAB_NTASKS ${SLURM_ARRAY_TASK_MAX}\\nsetenv MATLAB_TASK ${SLURM_ARRAY_TASK_ID}\\n\\necho \"MATLAB_NTASKS = ${MATLAB_NTASKS}\"\\necho \"MATLAB_TASK = ${MATLAB_TASK}\"\\n\\n\\n# Running MATLAB standalone results in creation of a cache folder in home dir\\n# This may cause runtime issues. Below is a workaround.\\necho \"tmpdir is ${LOCAL_SCRATCH}\"\\nsetenv MCR_CACHE_ROOT ${LOCAL_SCRATCH}\\necho \"\\\\n\\\\n********************************************\"\\necho \"* Using local scratch folder ${LOCAL_SCRATCH} on ${SLURM_JOB_NODELIST}\"\\necho \"********************************************\\\\n\\\\n\"\\n\\n# Ready to run standalone with commandline inputs (if required).\\n# $MATLAB_TASK --- processor number\\n# $MATLAB_NTASKS --- processor total\\n#\\ncd {slurm_job_input_dir}\\n\\nsrun {change_detection_path} ${MATLAB_TASK} ${MATLAB_NTASKS}\\n\\nexit\\n'"
      ]
     },
     "execution_count": 11,
     "metadata": {},
     "output_type": "execute_result"
    }
   ],
   "source": [
    "JobFormatter().format(temp, vals)"
   ]
  }
 ],
 "metadata": {
  "kernelspec": {
   "display_name": "Python 2",
   "language": "python",
   "name": "python2"
  },
  "language_info": {
   "codemirror_mode": {
    "name": "ipython",
    "version": 2
   },
   "file_extension": ".py",
   "mimetype": "text/x-python",
   "name": "python",
   "nbconvert_exporter": "python",
   "pygments_lexer": "ipython2",
   "version": "2.7.11"
  }
 },
 "nbformat": 4,
 "nbformat_minor": 0
}
